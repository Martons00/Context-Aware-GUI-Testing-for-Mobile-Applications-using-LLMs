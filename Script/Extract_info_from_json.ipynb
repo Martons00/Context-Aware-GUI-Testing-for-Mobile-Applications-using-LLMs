{
  "cells": [
    {
      "cell_type": "markdown",
      "metadata": {
        "id": "8KCsJ2CI1paq"
      },
      "source": [
        "#Replay Output\n"
      ]
    },
    {
      "cell_type": "code",
      "execution_count": null,
      "metadata": {},
      "outputs": [],
      "source": [
        "# Define the input and output paths for the JSON files\n",
        "cartella_input = '/content/drive/MyDrive/LLM/events_postLogin'\n",
        "file_output = '/content/drive/MyDrive/LLM/risultati_unificati.json'"
      ]
    },
    {
      "cell_type": "code",
      "execution_count": null,
      "metadata": {
        "colab": {
          "base_uri": "https://localhost:8080/"
        },
        "id": "Gw22dybeTpBZ",
        "outputId": "8f47419e-80bc-49de-f7de-f6c9e50722cc"
      },
      "outputs": [],
      "source": [
        "from google.colab import drive\n",
        "drive.mount('/content/drive')"
      ]
    },
    {
      "cell_type": "code",
      "execution_count": null,
      "metadata": {
        "colab": {
          "base_uri": "https://localhost:8080/"
        },
        "id": "0z9tLWPrSYFY",
        "outputId": "d548d64b-0355-425f-dfd5-a09448666e31"
      },
      "outputs": [],
      "source": [
        "!pip install transformers\n",
        "!pip install torch"
      ]
    },
    {
      "cell_type": "code",
      "execution_count": null,
      "metadata": {
        "colab": {
          "base_uri": "https://localhost:8080/"
        },
        "id": "1Lf6w_PH351l",
        "outputId": "46cbc6e5-28a7-4cda-a70d-70284c29e1ac"
      },
      "outputs": [],
      "source": [
        "!pip uninstall -y sympy\n",
        "!pip install sympy==1.12 torch transformers accelerate\n"
      ]
    },
    {
      "cell_type": "code",
      "execution_count": null,
      "metadata": {
        "colab": {
          "base_uri": "https://localhost:8080/",
          "height": 1000
        },
        "id": "07mAVZZHKEvx",
        "outputId": "fb2ebdf3-083a-4a84-fa9b-745f73dfcc1c"
      },
      "outputs": [],
      "source": [
        "# Reinstalla correttamente torch + torchvision compatibili con Colab\n",
        "!pip install --upgrade --force-reinstall torch torchvision torchaudio --index-url https://download.pytorch.org/whl/cu118\n"
      ]
    },
    {
      "cell_type": "code",
      "execution_count": null,
      "metadata": {
        "colab": {
          "base_uri": "https://localhost:8080/"
        },
        "id": "jkohLgtu1ozh",
        "outputId": "8ab11167-356a-4e73-86d5-ca8646ff27c8"
      },
      "outputs": [],
      "source": [
        "import os\n",
        "import json\n",
        "\n",
        "def estrai_descrizione_e_testo(cartella_input, file_output):\n",
        "    risultati = []\n",
        "    for nome_file in os.listdir(cartella_input):\n",
        "        if nome_file.endswith('.json'):\n",
        "            percorso_file = os.path.join(cartella_input, nome_file)\n",
        "            with open(percorso_file, 'r', encoding='utf-8') as f:\n",
        "                dati = json.load(f)\n",
        "                # Verifica che sia un evento set_text\n",
        "                if isinstance(dati, dict) and 'event' in dati and dati['event'].get('event_type') == 'set_text':\n",
        "                    evento = dati['event']\n",
        "                    vista = evento.get('view', {})\n",
        "                    # Costruisci la descrizione\n",
        "                    parti_descrizione = []\n",
        "                    if vista.get('class'):\n",
        "                        parti_descrizione.append(f'class={vista[\"class\"]}')\n",
        "                    if vista.get('resource_id'):\n",
        "                        parti_descrizione.append(f'resource_id={vista[\"resource_id\"]}')\n",
        "                    if vista.get('content_description'):\n",
        "                        parti_descrizione.append(f'content_description={vista[\"content_description\"]}')\n",
        "                    descrizione = ', '.join(parti_descrizione) if parti_descrizione else 'Nessuna descrizione disponibile'\n",
        "                    testo = evento.get('text', '')\n",
        "                    risultati.append({\n",
        "                        'id': nome_file,\n",
        "                        'description': descrizione,\n",
        "                        'text': testo\n",
        "                    })\n",
        "    # Scrivi tutti i risultati in un unico file JSON\n",
        "    with open(file_output, 'w', encoding='utf-8') as f:\n",
        "        json.dump(risultati, f, indent=2)\n",
        "\n",
        "estrai_descrizione_e_testo(cartella_input, file_output)\n"
      ]
    }
  ],
  "metadata": {
    "accelerator": "GPU",
    "colab": {
      "gpuType": "T4",
      "provenance": []
    },
    "kernelspec": {
      "display_name": "Python 3",
      "name": "python3"
    }
  },
  "nbformat": 4,
  "nbformat_minor": 0
}
