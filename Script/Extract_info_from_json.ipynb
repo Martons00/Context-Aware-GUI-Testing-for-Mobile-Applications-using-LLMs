{
  "cells": [
    {
      "cell_type": "markdown",
      "metadata": {
        "id": "8KCsJ2CI1paq"
      },
      "source": [
        "#Replay Output\n"
      ]
    },
    {
      "cell_type": "code",
      "execution_count": null,
      "metadata": {},
      "outputs": [],
      "source": [
        "\n",
        "#GM's paths\n",
        "# Define the input and output paths for the JSON files\n",
        "cartella_input = r'D:\\documenti\\UNI\\LLM\\progetto\\git\\Project_LLM_A3\\Result\\01-Replay output\\output-pass\\events'\n",
        "file_output_json = r'D:\\documenti\\UNI\\LLM\\progetto\\git\\Project_LLM_A3\\Result\\01-Replay output\\pass.json'\n",
        "file_output_md = r'D:\\documenti\\UNI\\LLM\\progetto\\git\\Project_LLM_A3\\Result\\01-Replay output\\pass.md'\n",
        "\n",
        "\n",
        "#RM's paths\n",
        "# Define the input and output paths for the JSON files\n",
        "##cartella_input = r'C:\\Users\\juve2\\Desktop\\Politecnico\\output_project\\droidbot_base\\output-pass2'\n",
        "#file_output_json = r'C:\\Users\\juve2\\Desktop\\Projects\\Project_LLM_A3\\Result\\risultati_output-p.json'\n",
        "#file_output_md = r'C:\\Users\\juve2\\Desktop\\Projects\\Project_LLM_A3\\Result\\risultati_output-p.md'"
      ]
    },
    {
      "cell_type": "code",
      "execution_count": 54,
      "metadata": {
        "colab": {
          "base_uri": "https://localhost:8080/"
        },
        "id": "jkohLgtu1ozh",
        "outputId": "8ab11167-356a-4e73-86d5-ca8646ff27c8"
      },
      "outputs": [
        {
          "name": "stdout",
          "output_type": "stream",
          "text": [
            "Il file C:\\Users\\juve2\\Desktop\\Politecnico\\output_misti_vecchi\\humanoid_output_omninotes\\events\\event_2025-04-23_172819.json è vuoto. Salto.\n",
            "Il file C:\\Users\\juve2\\Desktop\\Politecnico\\output_misti_vecchi\\humanoid_output_omninotes\\events\\event_2025-05-13_114437.json è vuoto. Salto.\n",
            "Il file C:\\Users\\juve2\\Desktop\\Politecnico\\output_misti_vecchi\\humanoid_output_omninotes\\events\\event_2025-05-13_120445.json è vuoto. Salto.\n"
          ]
        }
      ],
      "source": [
        "import os\n",
        "import json\n",
        "\n",
        "def estrai_descrizione_e_testo(cartella_input, file_output, file_output_md):\n",
        "    risultati = []\n",
        "    for nome_file in os.listdir(cartella_input):\n",
        "        if nome_file.endswith('.json'):\n",
        "            percorso_file = os.path.join(cartella_input, nome_file)\n",
        "            with open(percorso_file, 'r', encoding='utf-8') as f:\n",
        "                contenuto = f.read().strip()\n",
        "                if not contenuto:\n",
        "                    print(f\"Il file {percorso_file} è vuoto. Salto.\")\n",
        "                    continue\n",
        "                try:\n",
        "                    dati = json.loads(contenuto)\n",
        "                except json.JSONDecodeError as e:\n",
        "                    print(f\"Errore di parsing JSON nel file {percorso_file}: {e}\")\n",
        "                    continue\n",
        "                # Verifica che sia un evento set_text\n",
        "                if isinstance(dati, dict) and 'event' in dati and dati['event'].get('event_type') == 'set_text':\n",
        "\n",
        "\n",
        "\n",
        "                    evento = dati['event']\n",
        "                    vista = evento.get('view', {})\n",
        "                    # Costruisci la descrizione\n",
        "                    parti_descrizione = []\n",
        "                    if vista.get('class'):\n",
        "                        parti_descrizione.append(f'class={vista[\"class\"]}')\n",
        "                    if vista.get('resource_id'):\n",
        "                        parti_descrizione.append(f'resource_id={vista[\"resource_id\"]}')\n",
        "                    if vista.get('content_description'):\n",
        "                        parti_descrizione.append(f'content_description={vista[\"content_description\"]}')\n",
        "                    descrizione = ', '.join(parti_descrizione) if parti_descrizione else 'Nessuna descrizione disponibile'\n",
        "                    testo = evento.get('text', 'Hello World!')  \n",
        "                    risultati.append({\n",
        "                        'id': nome_file,\n",
        "                        'description': descrizione,\n",
        "                        'text': testo\n",
        "                    })\n",
        "\n",
        "                    \n",
        "\n",
        "\n",
        "    # Scrivi tutti i risultati in un unico file JSON\n",
        "    with open(file_output, 'w', encoding='utf-8') as f:\n",
        "        json.dump(risultati, f, indent=2)\n",
        "        \n",
        "    # Genera file markdown con tabella\n",
        "    with open(file_output_md, 'w', encoding='utf-8') as f_md:\n",
        "        f_md.write('| id | Text | Valid |\\n')\n",
        "        f_md.write('| --- | --- | --- |\\n')\n",
        "        for item in risultati:\n",
        "            # Escape pipe e rimuovi ritorni a capo dal testo\n",
        "            text = str(item[\"text\"]).replace('|', '\\\\|').replace('\\n', ' ').replace('\\r', ' ')\n",
        "            f_md.write(f'| {item[\"id\"]} | {text} | x |\\n')\n",
        "\n",
        "\n",
        "\n",
        "estrai_descrizione_e_testo(cartella_input, file_output_json, file_output_md)\n"
      ]
    }
  ],
  "metadata": {
    "accelerator": "GPU",
    "colab": {
      "gpuType": "T4",
      "provenance": []
    },
    "kernelspec": {
      "display_name": "base",
      "language": "python",
      "name": "python3"
    },
    "language_info": {
      "codemirror_mode": {
        "name": "ipython",
        "version": 3
      },
      "file_extension": ".py",
      "mimetype": "text/x-python",
      "name": "python",
      "nbconvert_exporter": "python",
      "pygments_lexer": "ipython3",
      "version": "3.12.4"
    }
  },
  "nbformat": 4,
  "nbformat_minor": 0
}
